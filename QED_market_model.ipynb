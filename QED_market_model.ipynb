{
 "cells": [
  {
   "cell_type": "markdown",
   "metadata": {},
   "source": [
    "## Econometric estimation of an IRL-based market portfolio model. Part II: QED\n",
    "\n",
    "Welcome to your final course project on Advanced Topic RL in Finance. In this project you will: \n",
    "\n",
    "- Explore and estimate an IRL-based model of market returns (the \"QED\" model) that is obtained by a generalization of   a model that you analyzed in the previous course\n",
    "- Respectively, you are expected to re-utilize parts of your previous code from the course project from Course 3: RL (but you can also start from scratch - the template provided here is nearly identical to the one offered to you in course 3)\n",
    "- Investige the role of non-linearities in price dynamics\n",
    "- Investigate the role and impact of choices of different signals on model estimation and trading strategies\n",
    " \n",
    "\n",
    "**Instructions for project structure and grading principles :**\n",
    "\n",
    "- This is a project that will be graded based on a peer-to-peer review. The project consists of four parts. The maximum score for each part is 10, so that maximum score you can give your peers (and they can give you) is 40. The parts are as follows (more detailed instructions are in specific cells below):\n",
    "\n",
    "- **Part 1**: Estimate the model using the DJI portfolio of 30 stocks, first without signals, and then using simple signals such as simple moving averages constructed below (Max 10 point).\n",
    "\n",
    "- **Part 2**: Explore the implications of calibrated model parameters for default probabilities of stocks in your portfolio. Present your conclusions and observations. (Max 10 point).\n",
    "\n",
    "- **Part 3**: Experiment with other signals and investigate the impact on model calibration obtained with alternative signals. Present your conclusions and observations. (Max 10 points).\n",
    "\n",
    "- **Part 4** : Show me something else. This part is optional. Come up with your own idea of an interesting analysis.\n",
    "For example, you can repeat your analysis for the S&P portfolio.\n",
    "Or maybe you can build a strategy using an optimal market-implied policy estimated from this model, and compare it with PCA and absorption ratio strategies that we built in Course 2. Or anything else.  (Max 10 points).\n",
    "\n",
    "**Instructions for formatting your notebook and packages use can use **\n",
    "\n",
    "- Use one or more cells of the notebook for each section of the project. Each section is marked by a header cell below. Insert your cells between them without changing the sequence. \n",
    "\n",
    "- Think of an optimal presentation of your results and conclusions. Think of how hard or easy it will be for your fellow students to follow your logic and presentation. When you are grading others, you can add or subtract point for the quality of presentation.\n",
    "\n",
    "- You will be using Python 3 in this project. Using TensorFlow is encouraged but is not strictly necessary, you can use optimization algorithms available in scipy or scikit-learn packages. If you use any non-standard packages, you should state all neccessary additional imports (or instructions how to install any additional modules you use in a top cell of your notebook. If you create a new portfolio for parts 3 and 4 in the project, make your code for creating your dataset replicable as well, so that your grader can reproduce your code locally on his/her machine.   \n",
    "\n",
    "- Try to write a clean code that can be followed by your peer reviewer. When you are the reviewer, you can add or subtract point for the quality of code. \n",
    "\n",
    "\n",
    "**After completing this project you will:**\n",
    "- Get experience with building and estimation of your second IRL based model of market dynamics.\n",
    "- Develop intuition and understanding about the role of non-linearities in dynamics model. \n",
    "- Develop intuition on whether the same model could be calibrated to both equity and credit data.\n",
    "- Be able to implement trading strategies based on this method.\n",
    "\n",
    "Let's get started!"
   ]
  },
  {
   "cell_type": "markdown",
   "metadata": {},
   "source": [
    "## The \"Quantum Equlibrium-Disequlibrium\" (QED) IRL-based model of stock returns\n",
    "\n",
    "\n",
    "#### Some personal further notes about the model\n",
    "\n",
    "In Week 3 lectures of our course we presented the \"QED\" model\n",
    "$$\n",
    "d X_t = \\kappa X_t  \\left( \\frac{\\theta}{\\kappa} - X_t - \\frac{g}{\\kappa} X_t^2 \\right) dt +  X_t \\left( {\\bf w} {\\bf z}_t \\, dt + \\sigma d W_t \\right)\\quad\\quad\\quad(1)\n",
    "$$\n",
    "\n",
    "The associated Kolmogorov forward equation in log-space provides an equivalent probabilistic description of dynamics in terms of the probability distribution and is given by :\n",
    "\n",
    "$$\\frac{ \\partial P(y,t|y_0)}{\\partial t} = \\frac{ \\partial }{\\partial y}\\big[\\frac{ \\partial V }{\\partial y}P(y,t|y_0)\\big] + \\frac{\\sigma^2}{2}\\frac{ \\partial^2 }{\\partial y^2}\\big[P(y,t|y_0)\\big]$$ \n",
    "\n",
    "where $P$ is the density probability distribution of $Y_t=log(X_t)$ and $V(y)  \\equiv - \\left( \\theta - \\frac{\\sigma^2}{2} + {\\bf w} {\\bf z}_t \\right) y  + \\kappa e^y + \\frac{1}{2} g e^{2y}$\n",
    "\n",
    "Applying the Itô formula to $Y_t=log(X_t)$ gives :\n",
    "\n",
    "$$dY_t = d(log(X_t)) = \\frac{1}{X_t}dX_t - \\frac{\\sigma^2}{2}\\frac{1}{X_t^2}dt$$\n",
    "\n",
    "Replacing $dX_t$ with the equation $(1)$ leads to the following Langevin dynamics for the log-price which will be used for the calibration :\n",
    "\n",
    "$$d y_t = - \\frac{ \\partial V(y)}{\\partial y} dt + \\sigma dW_t$$\n",
    "\n",
    "In this project, We will explore calibration of this model to market data.\n",
    "As in the course project for course 3 you analyzed the same model in the limit $ g = 0 $, We would be able to re-utilize parts of your previous code in this project).\n",
    "\n"
   ]
  },
  {
   "cell_type": "code",
   "execution_count": 1,
   "metadata": {},
   "outputs": [
    {
     "name": "stderr",
     "output_type": "stream",
     "text": [
      "/Users/pascal/.virtualenvs/deeplearning/lib/python3.7/importlib/_bootstrap.py:219: RuntimeWarning: compiletime version 3.6 of module 'tensorflow.python.framework.fast_tensor_util' does not match runtime version 3.7\n",
      "  return f(*args, **kwds)\n"
     ]
    }
   ],
   "source": [
    "import pandas as pd\n",
    "import numpy as np\n",
    "import tensorflow as tf\n",
    "\n",
    "import matplotlib.pyplot as plt\n",
    "from datetime import datetime"
   ]
  },
  {
   "cell_type": "code",
   "execution_count": 2,
   "metadata": {},
   "outputs": [],
   "source": [
    "# read the data to a Dataframe\n",
    "df_cap = pd.read_csv('dja_cap.csv')"
   ]
  },
  {
   "cell_type": "code",
   "execution_count": 3,
   "metadata": {},
   "outputs": [
    {
     "data": {
      "text/html": [
       "<div>\n",
       "<style scoped>\n",
       "    .dataframe tbody tr th:only-of-type {\n",
       "        vertical-align: middle;\n",
       "    }\n",
       "\n",
       "    .dataframe tbody tr th {\n",
       "        vertical-align: top;\n",
       "    }\n",
       "\n",
       "    .dataframe thead th {\n",
       "        text-align: right;\n",
       "    }\n",
       "</style>\n",
       "<table border=\"1\" class=\"dataframe\">\n",
       "  <thead>\n",
       "    <tr style=\"text-align: right;\">\n",
       "      <th></th>\n",
       "      <th>AAPL</th>\n",
       "      <th>AXP</th>\n",
       "      <th>BA</th>\n",
       "      <th>CAT</th>\n",
       "      <th>CSCO</th>\n",
       "      <th>CVX</th>\n",
       "      <th>DIS</th>\n",
       "      <th>DWDP</th>\n",
       "      <th>GE</th>\n",
       "      <th>GS</th>\n",
       "      <th>...</th>\n",
       "      <th>NKE</th>\n",
       "      <th>PFE</th>\n",
       "      <th>PG</th>\n",
       "      <th>TRV</th>\n",
       "      <th>UNH</th>\n",
       "      <th>UTX</th>\n",
       "      <th>V</th>\n",
       "      <th>VZ</th>\n",
       "      <th>WMT</th>\n",
       "      <th>XOM</th>\n",
       "    </tr>\n",
       "    <tr>\n",
       "      <th>date</th>\n",
       "      <th></th>\n",
       "      <th></th>\n",
       "      <th></th>\n",
       "      <th></th>\n",
       "      <th></th>\n",
       "      <th></th>\n",
       "      <th></th>\n",
       "      <th></th>\n",
       "      <th></th>\n",
       "      <th></th>\n",
       "      <th></th>\n",
       "      <th></th>\n",
       "      <th></th>\n",
       "      <th></th>\n",
       "      <th></th>\n",
       "      <th></th>\n",
       "      <th></th>\n",
       "      <th></th>\n",
       "      <th></th>\n",
       "      <th></th>\n",
       "      <th></th>\n",
       "    </tr>\n",
       "  </thead>\n",
       "  <tbody>\n",
       "    <tr>\n",
       "      <th>2010-01-04</th>\n",
       "      <td>1.937537e+11</td>\n",
       "      <td>48660795480</td>\n",
       "      <td>4.082033e+10</td>\n",
       "      <td>36460724400</td>\n",
       "      <td>1.420313e+11</td>\n",
       "      <td>1.586155e+11</td>\n",
       "      <td>6.168697e+10</td>\n",
       "      <td>3.337392e+10</td>\n",
       "      <td>1.645038e+11</td>\n",
       "      <td>8.897731e+10</td>\n",
       "      <td>...</td>\n",
       "      <td>25598248500</td>\n",
       "      <td>1.527563e+11</td>\n",
       "      <td>178576382080</td>\n",
       "      <td>27214839130</td>\n",
       "      <td>36638396010</td>\n",
       "      <td>67155918570</td>\n",
       "      <td>41337043020</td>\n",
       "      <td>94536765440</td>\n",
       "      <td>206625627560</td>\n",
       "      <td>3.272107e+11</td>\n",
       "    </tr>\n",
       "    <tr>\n",
       "      <th>2010-01-05</th>\n",
       "      <td>1.940887e+11</td>\n",
       "      <td>48553770270</td>\n",
       "      <td>4.215727e+10</td>\n",
       "      <td>36896634000</td>\n",
       "      <td>1.413985e+11</td>\n",
       "      <td>1.597391e+11</td>\n",
       "      <td>6.153308e+10</td>\n",
       "      <td>3.486077e+10</td>\n",
       "      <td>1.653556e+11</td>\n",
       "      <td>9.055040e+10</td>\n",
       "      <td>...</td>\n",
       "      <td>25700093100</td>\n",
       "      <td>1.505775e+11</td>\n",
       "      <td>178634816760</td>\n",
       "      <td>26570118990</td>\n",
       "      <td>36580295160</td>\n",
       "      <td>66152751840</td>\n",
       "      <td>40863360090</td>\n",
       "      <td>94707204320</td>\n",
       "      <td>204568134680</td>\n",
       "      <td>3.284884e+11</td>\n",
       "    </tr>\n",
       "    <tr>\n",
       "      <th>2010-01-06</th>\n",
       "      <td>1.910015e+11</td>\n",
       "      <td>49338621810</td>\n",
       "      <td>4.343609e+10</td>\n",
       "      <td>37008725040</td>\n",
       "      <td>1.404781e+11</td>\n",
       "      <td>1.597591e+11</td>\n",
       "      <td>6.120609e+10</td>\n",
       "      <td>3.547838e+10</td>\n",
       "      <td>1.645038e+11</td>\n",
       "      <td>8.958393e+10</td>\n",
       "      <td>...</td>\n",
       "      <td>25543409100</td>\n",
       "      <td>1.500934e+11</td>\n",
       "      <td>177787513900</td>\n",
       "      <td>26193121620</td>\n",
       "      <td>36940520430</td>\n",
       "      <td>65805862410</td>\n",
       "      <td>40314638280</td>\n",
       "      <td>90673484160</td>\n",
       "      <td>204110914040</td>\n",
       "      <td>3.313275e+11</td>\n",
       "    </tr>\n",
       "    <tr>\n",
       "      <th>2010-01-07</th>\n",
       "      <td>1.906484e+11</td>\n",
       "      <td>49921314620</td>\n",
       "      <td>4.519446e+10</td>\n",
       "      <td>37158179760</td>\n",
       "      <td>1.411109e+11</td>\n",
       "      <td>1.591572e+11</td>\n",
       "      <td>6.122532e+10</td>\n",
       "      <td>3.550126e+10</td>\n",
       "      <td>1.730218e+11</td>\n",
       "      <td>9.133695e+10</td>\n",
       "      <td>...</td>\n",
       "      <td>26172872700</td>\n",
       "      <td>1.495285e+11</td>\n",
       "      <td>176823341680</td>\n",
       "      <td>26570118990</td>\n",
       "      <td>38358181170</td>\n",
       "      <td>66087124110</td>\n",
       "      <td>40689832680</td>\n",
       "      <td>90133761040</td>\n",
       "      <td>204225219200</td>\n",
       "      <td>3.302865e+11</td>\n",
       "    </tr>\n",
       "    <tr>\n",
       "      <th>2010-01-08</th>\n",
       "      <td>1.919159e+11</td>\n",
       "      <td>49885639550</td>\n",
       "      <td>4.475850e+10</td>\n",
       "      <td>37575407520</td>\n",
       "      <td>1.418587e+11</td>\n",
       "      <td>1.594381e+11</td>\n",
       "      <td>6.132150e+10</td>\n",
       "      <td>3.562706e+10</td>\n",
       "      <td>1.767484e+11</td>\n",
       "      <td>8.960963e+10</td>\n",
       "      <td>...</td>\n",
       "      <td>26121202640</td>\n",
       "      <td>1.507389e+11</td>\n",
       "      <td>176589602960</td>\n",
       "      <td>26531872880</td>\n",
       "      <td>37997955900</td>\n",
       "      <td>66218379570</td>\n",
       "      <td>40802391000</td>\n",
       "      <td>90190574000</td>\n",
       "      <td>203196472760</td>\n",
       "      <td>3.289615e+11</td>\n",
       "    </tr>\n",
       "  </tbody>\n",
       "</table>\n",
       "<p>5 rows × 30 columns</p>\n",
       "</div>"
      ],
      "text/plain": [
       "                    AAPL          AXP            BA          CAT  \\\n",
       "date                                                               \n",
       "2010-01-04  1.937537e+11  48660795480  4.082033e+10  36460724400   \n",
       "2010-01-05  1.940887e+11  48553770270  4.215727e+10  36896634000   \n",
       "2010-01-06  1.910015e+11  49338621810  4.343609e+10  37008725040   \n",
       "2010-01-07  1.906484e+11  49921314620  4.519446e+10  37158179760   \n",
       "2010-01-08  1.919159e+11  49885639550  4.475850e+10  37575407520   \n",
       "\n",
       "                    CSCO           CVX           DIS          DWDP  \\\n",
       "date                                                                 \n",
       "2010-01-04  1.420313e+11  1.586155e+11  6.168697e+10  3.337392e+10   \n",
       "2010-01-05  1.413985e+11  1.597391e+11  6.153308e+10  3.486077e+10   \n",
       "2010-01-06  1.404781e+11  1.597591e+11  6.120609e+10  3.547838e+10   \n",
       "2010-01-07  1.411109e+11  1.591572e+11  6.122532e+10  3.550126e+10   \n",
       "2010-01-08  1.418587e+11  1.594381e+11  6.132150e+10  3.562706e+10   \n",
       "\n",
       "                      GE            GS      ...               NKE  \\\n",
       "date                                        ...                     \n",
       "2010-01-04  1.645038e+11  8.897731e+10      ...       25598248500   \n",
       "2010-01-05  1.653556e+11  9.055040e+10      ...       25700093100   \n",
       "2010-01-06  1.645038e+11  8.958393e+10      ...       25543409100   \n",
       "2010-01-07  1.730218e+11  9.133695e+10      ...       26172872700   \n",
       "2010-01-08  1.767484e+11  8.960963e+10      ...       26121202640   \n",
       "\n",
       "                     PFE            PG          TRV          UNH          UTX  \\\n",
       "date                                                                            \n",
       "2010-01-04  1.527563e+11  178576382080  27214839130  36638396010  67155918570   \n",
       "2010-01-05  1.505775e+11  178634816760  26570118990  36580295160  66152751840   \n",
       "2010-01-06  1.500934e+11  177787513900  26193121620  36940520430  65805862410   \n",
       "2010-01-07  1.495285e+11  176823341680  26570118990  38358181170  66087124110   \n",
       "2010-01-08  1.507389e+11  176589602960  26531872880  37997955900  66218379570   \n",
       "\n",
       "                      V           VZ           WMT           XOM  \n",
       "date                                                              \n",
       "2010-01-04  41337043020  94536765440  206625627560  3.272107e+11  \n",
       "2010-01-05  40863360090  94707204320  204568134680  3.284884e+11  \n",
       "2010-01-06  40314638280  90673484160  204110914040  3.313275e+11  \n",
       "2010-01-07  40689832680  90133761040  204225219200  3.302865e+11  \n",
       "2010-01-08  40802391000  90190574000  203196472760  3.289615e+11  \n",
       "\n",
       "[5 rows x 30 columns]"
      ]
     },
     "execution_count": 3,
     "metadata": {},
     "output_type": "execute_result"
    }
   ],
   "source": [
    "# add dates\n",
    "dates = pd.bdate_range(start='2010-01-04', end=None, periods=df_cap.shape[0], freq='B')\n",
    "df_cap['date'] = dates\n",
    "\n",
    "df_cap.set_index('date',inplace=True)\n",
    "df_cap.head()\n"
   ]
  },
  {
   "cell_type": "markdown",
   "metadata": {},
   "source": [
    "## Let us build some signals \n",
    "\n",
    "Here we provide a \"warm start\" by computing two simple moving average signals that you can use as benchmark in your analysis."
   ]
  },
  {
   "cell_type": "markdown",
   "metadata": {},
   "source": [
    "### Generate moving averages"
   ]
  },
  {
   "cell_type": "code",
   "execution_count": 4,
   "metadata": {},
   "outputs": [],
   "source": [
    "# Calculating the short-window (10 days) simple moving average\n",
    "\n",
    "window_1 = 10\n",
    "\n",
    "short_rolling = df_cap.rolling(window=window_1).mean()\n",
    "# short_rolling.head(20)"
   ]
  },
  {
   "cell_type": "code",
   "execution_count": 5,
   "metadata": {},
   "outputs": [],
   "source": [
    "# Calculating the long-window (30 days) simple moving average\n",
    "\n",
    "window_2 = 30\n",
    "long_rolling = df_cap.rolling(window=window_2).mean()\n",
    "# long_rolling.tail()"
   ]
  },
  {
   "cell_type": "markdown",
   "metadata": {},
   "source": [
    "### Plot three years of AAPL stock:"
   ]
  },
  {
   "cell_type": "code",
   "execution_count": 7,
   "metadata": {},
   "outputs": [
    {
     "data": {
      "image/png": "[encoded data removed]",
      "text/plain": [
       "<matplotlib.figure.Figure at 0x7f11a2dcc1d0>"
      ]
     },
     "metadata": {},
     "output_type": "display_data"
    }
   ],
   "source": [
    "ticker = 'AAPL'\n",
    "start_date = '2015-01-01'\n",
    "end_date = '2017-12-31'\n",
    "\n",
    "fig = plt.figure(figsize=(10,6))\n",
    "ax = fig.add_subplot(1,1,1)\n",
    "\n",
    "ax.plot(df_cap.loc[start_date:end_date, :].index, df_cap.loc[start_date:end_date, 'AAPL'], label='Cap')\n",
    "ax.plot(long_rolling.loc[start_date:end_date, :].index, long_rolling.loc[start_date:end_date, 'AAPL'], \n",
    "          label = '%d-days SMA' % window_2)\n",
    "ax.plot(short_rolling.loc[start_date:end_date, :].index, short_rolling.loc[start_date:end_date, 'AAPL'], \n",
    "         label = '%d-days SMA' % window_1)\n",
    "\n",
    "ax.legend(loc='best')\n",
    "ax.set_ylabel('Cap in $')\n",
    "\n",
    "plt.show()"
   ]
  },
  {
   "cell_type": "markdown",
   "metadata": {},
   "source": [
    "## Part 1: Model calibration with or without moving average signals (Max 10 points)"
   ]
  },
  {
   "cell_type": "markdown",
   "metadata": {},
   "source": [
    "To calibrate the model, it is convenient to use the log-prices instead of prices. Diffusion in the log-space \n",
    "$ y = \\log x $ is given by the following Langevin equation:\n",
    "\n",
    "$$\n",
    "d y_t = - \\frac{ \\partial V(y)}{\\partial y} dt + \\sigma dW_t , \\; \\; \\;  V(y)  \\equiv - \\left( \\theta - \\frac{\\sigma^2}{2} + {\\bf w} {\\bf z}_t \\right) y  + \\kappa e^y + \\frac{1}{2} g e^{2y}\n",
    "$$\n",
    "\n",
    "where $ W_t $ is a standard Brownian motion.\n",
    "In terms of variables $ y = \\log x $, the negative log-likelihood of data is therefore\n",
    "\n",
    "$$\n",
    "LL_M (\\Theta) = - \\log \\prod_{t=0}^{T-1} \n",
    "\\frac{1}{ \\sqrt{ 2 \\pi  \\sigma^2}  } \n",
    "\\exp \\left\\{  - \\frac{1}{2 \\sigma^2} \\left(   \\frac{ y_{t+ \\Delta t} -   y_{t}}{ \\Delta t} +  \\frac{ \\partial V(y)}{\\partial y}   \n",
    "\\right)^2\n",
    "\\right\\} , \n",
    "$$ \n",
    "\n",
    "where $ {\\bf y}_t  = \\log x_t $  now stands for observed values of log-cap. Note that because the model is Markov, the product over $ t = 0, \\ldots, T-1 $ does not \n",
    "necessarily mean a product of transitions along the same trajectory. The negative log-likelihood should be minimized to estimate parameters $ \n",
    "\\theta $, $ \\sigma $, $ \\kappa $, $ g $ and  $ {\\bf w} $. You can try to estimate the model first without signals, then with signals.\n"
   ]
  },
  {
   "cell_type": "markdown",
   "metadata": {},
   "source": [
    "### Some reformulations"
   ]
  },
  {
   "cell_type": "markdown",
   "metadata": {},
   "source": [
    "Rewritting the Log likelihood function gives :\n",
    "$$\n",
    "LL_M (\\Theta) = - \\log \\prod_{t=0}^{T-1} \n",
    "\\frac{1}{ \\sqrt{ 2 \\pi  \\sigma^2}  } \n",
    "\\exp \\left\\{  - \\frac{1}{2 \\sigma^2} \\left(   \\frac{ y_{t+ \\Delta t} -   y_{t}}{ \\Delta t} - \\left( \\theta - \\frac{\\sigma^2}{2} + {\\bf w} {\\bf z}_t \\right)   + \\kappa e^y + g e^{2y}   \n",
    "\\right)^2\n",
    "\\right\\}\n",
    "$$ \n",
    "Equivalent to (with possible regularization terms ) :\n",
    "\n",
    "$$\n",
    "LL_M (\\Theta) = - \\log \\prod_{t=0}^{T-1} \n",
    "\\frac{1}{ \\sqrt{ 2 \\pi  \\sigma^2}  } \n",
    "\\exp \\left\\{  - \\frac{1}{2 \\sigma^2} \\left(   \\frac{1}{ \\Delta t} log(\\frac{x_{t+ \\Delta t}}{x_{t}}) - \\left( \\theta - \\frac{\\sigma^2}{2} + {\\bf w} {\\bf z}_t \\right)   + \\kappa x + gx^2   \n",
    "\\right)^2 + \\lambda_1|{\\bf w}^t{\\bf 1}-1|^2 + \\lambda_2 max(y_t - y_0, 0) + ...\n",
    "\\right\\}\n",
    "$$ \n",
    "\n",
    "Here we impose (as it is mentionned in the articel) a regularization term $\\lambda_2 max(y_t - y_0, 0)$ that ensures the presence of a barrier between a ’diffusive’ and ’default’ regions of stock log-cap value, where $y_t$ is closed to the argmin of potential V and $y_0$ is the first return.\n",
    "\n",
    "\n",
    "The above formulas are established for a single stocks. We can also consider the log-likelihood function for all stock simultaneously like in project of course 3. Then defining \n",
    "\n",
    "$$  LL_M (\\Theta) = - \\log \\prod_{t=0}^{T-1} \n",
    "\\frac{1}{ \\sqrt{ (2 \\pi)^{N}  \\left| \\Sigma_x \\right| }} \n",
    "\\exp \\left\\{ - \\frac{1}{2} \\left(   {\\bf v}_t\n",
    " \\right)^{T} \n",
    "\\Sigma_x^{-1}  \n",
    "\\left(  {\\bf v}_t \\right)\\right\\} $$\n",
    "\n",
    "where\n",
    "\n",
    "$$  {\\bf v}_t \\equiv \\frac{ y_{t+ \\Delta t} -   y_{t}}{ \\Delta t} +  \\frac{ \\partial V(y)}{\\partial y}  $$\n",
    "\n",
    "with $V$, $\\kappa$, $\\theta$ and $g$ are vectors of different $\\kappa_i$, $\\theta_i$ $g_i$ of each stock, $\\Sigma_x = diag(\\sigma_i^2) + \\alpha I$ is the regularized covariance matrix assuming pairs independance in noise terms between stocks "
   ]
  },
  {
   "cell_type": "markdown",
   "metadata": {
    "collapsed": true
   },
   "source": [
    "### Data pre-processing and some analysis"
   ]
  },
  {
   "cell_type": "code",
   "execution_count": 6,
   "metadata": {},
   "outputs": [
    {
     "name": "stdout",
     "output_type": "stream",
     "text": [
      "len df_caps ..:2080\n",
      "len df_caps without NA ..:2080\n",
      "long rolling start...:2010-02-12 00:00:00\n",
      "2051\n",
      "2051\n",
      "2051\n"
     ]
    }
   ],
   "source": [
    "print(\"len df_caps ..:\" + str(len(df_cap)))\n",
    "print(\"len df_caps without NA ..:\" + str(len(df_cap.dropna())))\n",
    "\n",
    "#data cleaning\n",
    "long_rolling = long_rolling.dropna()\n",
    "short_rolling = short_rolling.dropna()\n",
    "print(\"long rolling start...:\" + str(long_rolling.index[0]))\n",
    "df_cap = df_cap.loc[df_cap.index >= long_rolling.index[0]]\n",
    "short_rolling = short_rolling.loc[short_rolling.index >= long_rolling.index[0]]\n",
    "\n",
    "print(len(df_cap))\n",
    "print(len(short_rolling))\n",
    "print(len(long_rolling))"
   ]
  },
  {
   "cell_type": "code",
   "execution_count": 7,
   "metadata": {},
   "outputs": [
    {
     "data": {
      "image/png": "[encoded data removed]",
      "text/plain": [
       "<Figure size 432x288 with 2 Axes>"
      ]
     },
     "metadata": {
      "needs_background": "light"
     },
     "output_type": "display_data"
    }
   ],
   "source": [
    "#compute an overview of data correlations\n",
    "import seaborn as sns\n",
    "corr = df_cap.corr()\n",
    "sns.heatmap(corr, \n",
    "            xticklabels=corr.columns.values,\n",
    "            yticklabels=corr.columns.values,\n",
    "            #annot = True,\n",
    "           square = True)\n",
    "#plt.matshow(df_cap.corr())\n",
    "plt.show()\n",
    "\n"
   ]
  },
  {
   "cell_type": "code",
   "execution_count": 6,
   "metadata": {},
   "outputs": [
    {
     "name": "stdout",
     "output_type": "stream",
     "text": [
      "mean of AAPL returns..:0.000718439906718\n",
      "var of AAPL returns..:0.0159012803787\n",
      ".............................\n",
      "mean of IBM returns..:-0.000102300185654\n",
      "var of IBM returns..:0.0124070320703\n",
      ".............................\n",
      "anual volatility of AAPL...:0.504779558808\n",
      "growth of AAPL...:0.127404041179\n",
      ".............................\n",
      "anual volatility of IBM...:0.393856093686\n",
      "growth of IBM...:0.0775609069181\n"
     ]
    },
    {
     "data": {
      "image/png": "[encoded data removed]",
      "text/plain": [
       "<matplotlib.figure.Figure at 0x7f3e39d2fb38>"
      ]
     },
     "metadata": {},
     "output_type": "display_data"
    }
   ],
   "source": [
    "#plot log return and some stitistics for some stocks\n",
    "columns = ['AAPL', 'IBM', 'CVX', 'CAT']\n",
    "df_log_returns = pd.DataFrame([], index = df_cap.index[1:], columns = columns )\n",
    "for c in columns:\n",
    "    df_log_returns[c] = np.log(np.divide(df_cap[c].values[1:],df_cap[c].values[:-1] ))\n",
    "\n",
    "nb_of_years = (df_cap.index[-1] -  df_cap.index[0]).days/365\n",
    "    \n",
    "print(\"mean of AAPL returns..:\" + str(df_log_returns['AAPL'].mean()))\n",
    "print(\"var of AAPL returns..:\" + str(df_log_returns['AAPL'].std()))\n",
    "print(\".............................\")\n",
    "print(\"mean of IBM returns..:\" + str(df_log_returns['IBM'].mean()))\n",
    "print(\"var of IBM returns..:\" + str(df_log_returns['IBM'].std()))\n",
    "print(\".............................\")\n",
    "print(\"anual volatility of AAPL...:\" + str(df_log_returns['AAPL'].std()/(nb_of_years/253)) )\n",
    "print(\"growth of AAPL...:\" + str(df_log_returns['AAPL'].mean()/253 + 0.5*(df_log_returns['AAPL'].std()/(nb_of_years/253))**2) )\n",
    "print(\".............................\")\n",
    "print(\"anual volatility of IBM...:\" + str(df_log_returns['IBM'].std()/(nb_of_years/253)) )\n",
    "print(\"growth of IBM...:\" + str(df_log_returns['IBM'].mean()/253 + 0.5*(df_log_returns['IBM'].std()/(nb_of_years/253))**2) )\n",
    "\n",
    "df_log_returns['IBM'].hist()\n",
    "df_log_returns['AAPL'].hist()\n",
    "df_log_returns['CVX'].hist()\n",
    "df_log_returns['CAT'].hist()\n",
    "plt.show()"
   ]
  },
  {
   "cell_type": "markdown",
   "metadata": {},
   "source": [
    "### Define our optimization routine\n",
    "\n",
    "**Notes:** \n",
    "- Three optimization schemes are implemented : two for a single stock with and without signals and an other for all stocks simultaneously\n",
    "- In this project, we will focuse our analysis mainly on single stock calibration at once but multi stock calibration simultaneously will also be computed with moving average signals "
   ]
  },
  {
   "cell_type": "code",
   "execution_count": 13,
   "metadata": {},
   "outputs": [],
   "source": [
    "#optimization function for a single stocks without signals\n",
    "def fit_MLE_withoutSign(input_data, nb_iter, learning_rate = 0.001):\n",
    "    \n",
    "    x_data = input_data\n",
    "    \n",
    "    tf.reset_default_graph()\n",
    "    \n",
    "    nb_timestep = x_data.shape[0]  # number of time steps\n",
    "\n",
    "\n",
    "    #define placeholder\n",
    "    x   = tf.placeholder(shape=(nb_timestep,),dtype=tf.float32,name=\"x\")\n",
    "\n",
    "\n",
    "    # initialize variables\n",
    "    kappa = tf.get_variable(\"kappa\",initializer=tf.random_uniform([1],minval=0.,maxval=1.0))\n",
    "    theta = tf.get_variable(\"theta\",initializer=tf.random_uniform([1],minval=0.,maxval=1.0))\n",
    "    sigma = tf.get_variable(\"sigma\",initializer=tf.random_uniform([1],minval=0.,maxval=1.0))\n",
    "    g = tf.get_variable(\"g\",initializer=tf.random_uniform([1],minval=0.,maxval=1.0))\n",
    "    \n",
    "    #constraint on parameters\n",
    "    negativetheta = theta.assign(tf.minimum(-0.001,theta)) #locating the negative theta\n",
    "    negkappa = kappa.assign(tf.minimum(-0.001,kappa))  #locating the negative kappa\n",
    "    positiveg   = g.assign(tf.maximum(0.001,g)) #locating the positive g\n",
    "    posisigma = sigma.assign(tf.maximum(0.001,sigma)) #locating the positive sigma\n",
    "    #posw2 = w2.assign(tf.maximum(0., w2))\n",
    "    #posw1 = w1.assign(tf.maximum(0., w1))\n",
    "\n",
    "    negativelocated = tf.group(positiveg,posisigma,negkappa,negativetheta) #grouping the variables\n",
    "\n",
    "    \n",
    "    #compute v\n",
    "    v = tf.log(tf.divide(x[1:],x[:-1])) - ((theta - 0.5*tf.square(sigma)  \\\n",
    "                                               )*tf.ones([nb_timestep]) + \\\n",
    "                                               kappa*x + g*tf.square(x))[1:]\n",
    "    #compute log-likelihood to be minimized\n",
    "    #dist = tf.contrib.distributions.MultivariateNormalDiag(loc=tf.zeros([1]), scale_diag=sigma)\n",
    "    dist = tf.contrib.distributions.Normal(loc=0., scale=sigma)\n",
    "    log_prob = dist.log_prob(v) \n",
    "    log_likelihood = -tf.reduce_sum(log_prob) \n",
    "    #print(log_prob)       \n",
    "                                               \n",
    "    #define optimizer                                           \n",
    "    optimizer = tf.train.AdamOptimizer(learning_rate=learning_rate)\n",
    "    min_train = optimizer.minimize(log_likelihood)\n",
    "\n",
    "                                               \n",
    "    with tf.Session() as sess:\n",
    "\n",
    "        # initialize\n",
    "        sess.run(tf.global_variables_initializer())\n",
    "        \n",
    "        loss_values = []\n",
    "        loss = sess.run(log_likelihood, feed_dict={x: x_data})\n",
    "        loss_values.append(loss)\n",
    "\n",
    "        for i in range(nb_iter):\n",
    "\n",
    "            sess.run(min_train, feed_dict={x: x_data})\n",
    "            #run constraints\n",
    "            sess.run(negativelocated)\n",
    "            # update loss\n",
    "            new_loss = sess.run(log_likelihood, feed_dict={x: x_data})\n",
    "\n",
    "            loss_values.append(new_loss)\n",
    "        \n",
    "        results = pd.DataFrame([], index = None, columns = ['stock','kappa','theta', 'sigma','g' ])\n",
    "        results['stock'] = ['']\n",
    "        results['kappa'] = sess.run(kappa)\n",
    "        results['theta'] = sess.run(theta)\n",
    "        results['sigma'] = sess.run(sigma)\n",
    "        results['g'] = sess.run(g)\n",
    "    \n",
    "    \n",
    "    return results, loss_values\n",
    "\n",
    "\n",
    "#optimization function for a single stocks with signals\n",
    "def fit_MLE(input_data, nb_iter, learning_rate = 0.1, reg = 0.1):\n",
    "    \n",
    "    x_data, signal_1, signal_2 = input_data\n",
    "    \n",
    "    tf.reset_default_graph()\n",
    "    \n",
    "    nb_timestep = x_data.shape[0]  # number of time steps\n",
    "\n",
    "\n",
    "    #define placeholder\n",
    "    x   = tf.placeholder(shape=(nb_timestep,),dtype=tf.float32,name=\"x\")\n",
    "    z1  = tf.placeholder(shape=(nb_timestep,),dtype=tf.float32,name=\"z1\") \n",
    "    z2  = tf.placeholder(shape=(nb_timestep,),dtype=tf.float32,name=\"z2\") \n",
    "\n",
    "    # initialize variables\n",
    "    kappa = tf.get_variable(\"kappa\",initializer=tf.random_uniform([1],minval=0.,maxval=1.0))\n",
    "    theta = tf.get_variable(\"theta\",initializer=tf.random_uniform([1],minval=0.,maxval=1.0))\n",
    "    sigma = tf.get_variable(\"sigma\",initializer=tf.random_uniform([1],minval=0.,maxval=1.0))\n",
    "    g = tf.get_variable(\"g\",initializer=tf.random_uniform([1],minval=0.,maxval=1.0))\n",
    "    init = tf.random_normal([1],mean=0.5,stddev=0.1)\n",
    "    w1 = tf.get_variable(\"w1\",initializer=init)\n",
    "    w2 = tf.get_variable(\"w2\",initializer=1- init) \n",
    "    \n",
    "    #constraint on parameters\n",
    "    negativetheta = theta.assign(tf.minimum(-0.001,theta)) #locating the negative theta\n",
    "    negkappa = kappa.assign(tf.minimum(-0.001,kappa))  #locating the negative kappa\n",
    "    positiveg   = g.assign(tf.maximum(0.001,g)) #locating the positive g\n",
    "    posisigma = sigma.assign(tf.maximum(0.001,sigma)) #locating the positive sigma\n",
    "    posw2 = w2.assign(tf.maximum(0., w2))\n",
    "    posw1 = w1.assign(tf.maximum(0., w1))\n",
    "\n",
    "    negativelocated = tf.group(positiveg,posisigma,negkappa,negativetheta, posw1, posw2) #grouping the variables\n",
    "\n",
    "    \n",
    "    #compute v\n",
    "    v = tf.log(tf.divide(x[1:],x[:-1])) - ((theta - 0.5*tf.square(sigma) + \\\n",
    "                                               tf.add(w1*z1,w2*z2))*tf.ones([nb_timestep]) + \\\n",
    "                                               kappa*x + g*tf.square(x))[:-1]\n",
    "    #compute log-likelihood to be minimized\n",
    "    #dist = tf.contrib.distributions.MultivariateNormalDiag(loc=tf.zeros([1]), scale_diag=sigma)\n",
    "    dist = tf.contrib.distributions.Normal(loc=0., scale=sigma)\n",
    "    log_prob = dist.log_prob(v)\n",
    "    regularization = tf.reduce_sum(tf.square(w1+w2-1)) \n",
    "    log_likelihood = -tf.reduce_sum(log_prob) + reg*regularization\n",
    "    #print(log_prob)       \n",
    "                                               \n",
    "    #define optimizer                                           \n",
    "    optimizer = tf.train.AdamOptimizer(learning_rate=learning_rate)\n",
    "    min_train = optimizer.minimize(log_likelihood)\n",
    "\n",
    "                                               \n",
    "    with tf.Session() as sess:\n",
    "\n",
    "        # initialize\n",
    "        sess.run(tf.global_variables_initializer())\n",
    "        \n",
    "        loss_values = []\n",
    "        loss = sess.run(log_likelihood, feed_dict={x: x_data, z1 : signal_1, z2: signal_2})\n",
    "        loss_values.append(loss)\n",
    "\n",
    "        for i in range(nb_iter):\n",
    "\n",
    "            sess.run(min_train, feed_dict={x: x_data, z1 : signal_1, z2: signal_2})\n",
    "            #run constraints\n",
    "            sess.run(negativelocated)\n",
    "            # update loss\n",
    "            new_loss = sess.run(log_likelihood, feed_dict={x: x_data, z1 : signal_1, z2: signal_2})\n",
    "\n",
    "            loss_values.append(new_loss)\n",
    "        \n",
    "        results = pd.DataFrame([], index = None, columns = ['stock','kappa','theta', 'sigma','g', 'w1', 'w2' ])\n",
    "        results['stock'] = ['']\n",
    "        results['kappa'] = sess.run(kappa)\n",
    "        results['theta'] = sess.run(theta)\n",
    "        results['sigma'] = sess.run(sigma)\n",
    "        results['g'] = sess.run(g)\n",
    "        results['w1'] = sess.run(w1)\n",
    "        results['w2'] = sess.run(w2)\n",
    "    \n",
    "    \n",
    "    return results, loss_values\n",
    "\n",
    "\n",
    "#optimization function for several stocks\n",
    "def fit_multi_MLE(input_data, nb_iter, learning_rate = 0.1, reg_w = 0.1, reg_sigma = 0.1):\n",
    "    \n",
    "    x_data, signal_1, signal_2 = input_data\n",
    "    \n",
    "    tf.reset_default_graph()\n",
    "    \n",
    "    nb_timestep = x_data.shape[0]  # number of time steps\n",
    "    nb_st = x_data.shape[1]  # number of assets\n",
    "\n",
    "    #define placeholder\n",
    "    x   = tf.placeholder(shape=(nb_timestep,nb_st),dtype=tf.float32,name=\"x\")\n",
    "    z1  = tf.placeholder(shape=(nb_timestep,nb_st),dtype=tf.float32,name=\"z1\") \n",
    "    z2  = tf.placeholder(shape=(nb_timestep,nb_st),dtype=tf.float32,name=\"z2\") \n",
    "\n",
    "    # initialize variables\n",
    "    kappa =tf.multiply(tf.transpose((tf.ones([nb_st,nb_timestep]))), tf.get_variable(\"kappa\",initializer=tf.random_uniform([nb_st],minval=0.,maxval=1.0)))\n",
    "    theta =tf.multiply(tf.transpose((tf.ones([nb_st,nb_timestep]))), tf.get_variable(\"theta\",initializer=tf.random_uniform([nb_st],minval=0.,maxval=1.0)))\n",
    "    sigma_val = tf.get_variable(\"sigma\",initializer=tf.random_uniform([nb_st],minval=0.,maxval=1.0))\n",
    "    sigma_val_reg = sigma_val + reg_sigma*tf.ones([nb_st])\n",
    "    sigma =tf.multiply(tf.transpose((tf.ones([nb_st,nb_timestep]))), sigma_val)#sigma_val_reg\n",
    "    g =tf.multiply(tf.transpose((tf.ones([nb_st,nb_timestep]))), tf.get_variable(\"g\",initializer=tf.random_uniform([nb_st],minval=0.,maxval=1.0)))\n",
    "    w1 =tf.multiply(tf.transpose((tf.ones([nb_st,nb_timestep]))), tf.get_variable(\"w1\",initializer=tf.random_normal([nb_st],mean=0.5,stddev=0.1)))\n",
    "    w2 =tf.multiply(tf.transpose((tf.ones([nb_st,nb_timestep]))), tf.get_variable(\"w2\",initializer=tf.random_normal([nb_st],mean=0.5,stddev=0.1)))\n",
    "\n",
    "    #constraint on parameters\n",
    "    negativetheta = tf.minimum(-0.001,theta) #locating the negative theta\n",
    "    negkappa = kappa.assign(tf.minimum(-0.001,kappa))  #locating the negative kappa\n",
    "    positiveg   = g.assign(tf.maximum(0.001,g)) #locating the positive g\n",
    "    posisigma = sigma.assign(tf.maximum(0.001,sigma)) #locating the positive sigma\n",
    "    posw2 = w2.assign(tf.maximum(0., w2))\n",
    "    posw1 = w1.assign(tf.maximum(0., w1))\n",
    "\n",
    "    print(kappa.shape)\n",
    "    #compute v\n",
    "    v = tf.log(tf.divide(x[1:,:],x[:-1,:])) - ((theta - 0.5*tf.square(sigma) + \\\n",
    "                                               tf.add(tf.ones([nb_timestep,nb_st]),tf.add(tf.multiply(w1,z1),tf.multiply(w2,z2)))) + \\\n",
    "                                               tf.multiply(kappa,x) + tf.multiply(g,tf.square(x)))[1:,:]\n",
    "    \n",
    "    #compute log-likelihood to be minimized\n",
    "    dist = tf.contrib.distributions.MultivariateNormalDiag(loc=tf.zeros([nb_st]), scale_diag=sigma_val_reg)\n",
    "    #dist = tf.contrib.distributions.Normal(loc=0., scale=sigma)\n",
    "    log_prob = dist.log_prob(v)\n",
    "    regularization =tf.reduce_sum(tf.square(w1[0,:]+w2[0,:]-1)) # tf.reduce_sum(tf.square(w1+w2-1))   \n",
    "    log_likelihood = -tf.reduce_sum(log_prob) + reg_w*regularization \n",
    "    #print(log_prob)       \n",
    "                                               \n",
    "    #define optimizer                                           \n",
    "    optimizer = tf.train.AdamOptimizer(learning_rate=learning_rate)\n",
    "    min_train = optimizer.minimize(log_likelihood)\n",
    "\n",
    "                                               \n",
    "    with tf.Session() as sess:\n",
    "\n",
    "        # initialize\n",
    "        sess.run(tf.global_variables_initializer())\n",
    "        \n",
    "        loss_values = []\n",
    "        loss = sess.run(log_likelihood, feed_dict={x: x_data, z1 : signal_1, z2: signal_2})\n",
    "        loss_values.append(loss)\n",
    "\n",
    "        for i in range(nb_iter):\n",
    "            #run optim\n",
    "            sess.run(min_train, feed_dict={x: x_data, z1 : signal_1, z2: signal_2})\n",
    "            #run constraints\n",
    "            sess.run(negativelocated)\n",
    "            # update loss\n",
    "            new_loss = sess.run(log_likelihood, feed_dict={x: x_data, z1 : signal_1, z2: signal_2})\n",
    "\n",
    "            loss_values.append(new_loss)\n",
    "        \n",
    "        results = pd.DataFrame([], index = range(nb_st), columns = ['stock','kappa','theta', 'sigma', 'w1', 'w2' ])\n",
    "        results['stock'] = df_cap.columns\n",
    "       # print(sess.run(kappa))\n",
    "        results['kappa'] = sess.run(kappa)[0,:]\n",
    "        results['g'] = sess.run(g)[0,:]\n",
    "        results['theta'] = sess.run(theta)[0,:]\n",
    "        results['sigma'] = sess.run(sigma)[0,:]\n",
    "        results['w1'] = sess.run(w1)[0,:]\n",
    "        results['w2'] = sess.run(w2)[0,:]\n",
    "    \n",
    "    \n",
    "    return results, loss_values\n"
   ]
  },
  {
   "cell_type": "markdown",
   "metadata": {},
   "source": [
    "### Test for AAPL stock"
   ]
  },
  {
   "cell_type": "code",
   "execution_count": null,
   "metadata": {},
   "outputs": [],
   "source": [
    "#define input data\n",
    "x = df_cap['AAPL'].values\n",
    "signal_1 = short_rolling['AAPL'].values\n",
    "signal_2 = long_rolling['AAPL'].values\n",
    "\n",
    "#scaling data\n",
    "x_scaled = x/np.mean(x)\n",
    "signal_1_scaled = signal_1/np.mean(signal_1)\n",
    "signal_2_scaled = signal_2/np.mean(signal_2)\n",
    "\n",
    "#fit model\n",
    "results, loss_values = fit_MLE([x_scaled, signal_1_scaled, signal_2_scaled], nb_iter = 1000, learning_rate = 0.001, reg = 1)\n",
    "results['stock'] = 'AAPL'\n",
    "print(\"result for AAPL stock................:\")\n",
    "print(results)\n",
    "plt.plot(loss_values)\n",
    "plt.xlabel('iterations')\n",
    "plt.ylabel('loss')\n",
    "plt.title('losses')\n",
    "plt.show()"
   ]
  },
  {
   "cell_type": "markdown",
   "metadata": {},
   "source": [
    "### Test for IBM stock"
   ]
  },
  {
   "cell_type": "code",
   "execution_count": null,
   "metadata": {},
   "outputs": [],
   "source": [
    "#define input data\n",
    "x = df_cap['IBM'].values\n",
    "signal_1 = short_rolling['IBM'].values\n",
    "signal_2 = long_rolling['IBM'].values\n",
    "\n",
    "#scaling data\n",
    "x_scaled = x/np.mean(x)\n",
    "signal_1_scaled = signal_1/np.mean(signal_1)\n",
    "signal_2_scaled = signal_2/np.mean(signal_2)\n",
    "\n",
    "#fit model\n",
    "results, loss_values = fit_MLE([x_scaled, signal_1_scaled, signal_2_scaled], nb_iter = 1000, learning_rate = 0.001, reg = 0.1)\n",
    "results['stock'] = 'IBM'\n",
    "print(\"result for IBM stock................:\")\n",
    "print(results)\n",
    "plt.plot(loss_values)\n",
    "plt.show()"
   ]
  },
  {
   "cell_type": "markdown",
   "metadata": {},
   "source": [
    "### result for all stocks"
   ]
  },
  {
   "cell_type": "markdown",
   "metadata": {},
   "source": [
    "#### Using the multi stock minimization function"
   ]
  },
  {
   "cell_type": "code",
   "execution_count": null,
   "metadata": {},
   "outputs": [],
   "source": [
    "#define input data\n",
    "x = df_cap.values\n",
    "signal_1 = short_rolling.values\n",
    "signal_2 = long_rolling.values\n",
    "\n",
    "#scaling data\n",
    "x_scaled = x/np.mean(x)\n",
    "signal_1_scaled = signal_1/np.mean(signal_1)\n",
    "signal_2_scaled = signal_2/np.mean(signal_2)\n",
    "\n",
    "\n",
    "results, loss_values = fit_multi_MLE([x_scaled, signal_1_scaled, signal_2_scaled], nb_iter = 100, learning_rate = 0.001, reg_w = 0.1, reg_sigma = 0.1)\n",
    "print(\"result for all stocks with multi-stock model.......:\")\n",
    "print(results)\n"
   ]
  },
  {
   "cell_type": "code",
   "execution_count": 75,
   "metadata": {},
   "outputs": [
    {
     "data": {
      "image/png": "[encoded data removed]",
      "text/plain": [
       "<matplotlib.figure.Figure at 0x7f113e58e940>"
      ]
     },
     "metadata": {},
     "output_type": "display_data"
    }
   ],
   "source": [
    "#plot losses curve\n",
    "plt.plot(loss_values)\n",
    "plt.show()"
   ]
  },
  {
   "cell_type": "markdown",
   "metadata": {},
   "source": [
    "#### Using iteration on the single stock minimization model"
   ]
  },
  {
   "cell_type": "code",
   "execution_count": 17,
   "metadata": {},
   "outputs": [
    {
     "name": "stdout",
     "output_type": "stream",
     "text": [
      "processing.......AAPL\n",
      "processing.......AXP\n",
      "processing.......BA\n",
      "processing.......CAT\n",
      "processing.......CSCO\n",
      "processing.......CVX\n",
      "processing.......DIS\n",
      "processing.......DWDP\n",
      "processing.......GE\n",
      "processing.......GS\n",
      "processing.......HD\n",
      "processing.......IBM\n",
      "processing.......INTC\n",
      "processing.......JNJ\n",
      "processing.......JPM\n",
      "processing.......KO\n",
      "processing.......MCD\n",
      "processing.......MMM\n",
      "processing.......MRK\n",
      "processing.......MSFT\n",
      "processing.......NKE\n",
      "processing.......PFE\n",
      "processing.......PG\n",
      "processing.......TRV\n",
      "processing.......UNH\n",
      "processing.......UTX\n",
      "processing.......V\n",
      "processing.......VZ\n",
      "processing.......WMT\n",
      "processing.......XOM\n",
      "result for all stocks................:\n",
      "  stock     kappa     theta     sigma         g        w1        w2\n",
      "0  AAPL -0.382919 -0.135909  0.361635  0.282026  0.078227  0.156301\n",
      "0   AXP -0.235290 -0.001000  0.016382  0.002416  0.060668  0.173215\n",
      "0    BA -0.377115 -0.308579  0.561491  0.450766  0.000000  0.254882\n",
      "0   CAT -0.305222 -0.296425  0.185735  0.317346  0.000702  0.389039\n",
      "0  CSCO -0.333653 -0.317539  0.375311  0.387590  0.155989  0.177603\n",
      "0   CVX -0.347331 -0.339846  0.423720  0.495019  0.221631  0.084001\n",
      "0   DIS -0.250615 -0.233140  0.178154  0.001000  0.177075  0.321149\n",
      "0  DWDP -0.290850 -0.090123  0.310909  0.001000  0.022040  0.390354\n",
      "0    GE -0.205956 -0.001000  0.015358  0.012204  0.068266  0.125767\n",
      "0    GS -0.287325 -0.001000  0.018195  0.004320  0.283911  0.000000\n",
      "0    HD -0.264318 -0.199482  0.245428  0.001000  0.313247  0.157313\n",
      "0   IBM -0.275769 -0.238504  0.201610  0.075995  0.206549  0.241976\n",
      "0  INTC -0.309466 -0.264479  0.388211  0.242621  0.233088  0.150528\n",
      "0   JNJ -0.295481 -0.001000  0.011234  0.001000  0.156651  0.138961\n",
      "0   JPM -0.213989 -0.209803  0.057246  0.010671  0.293209  0.278758\n",
      "0    KO -0.316407 -0.313982  0.209179  0.443247  0.317411  0.049797\n",
      "0   MCD -0.274493 -0.001000  0.010366  0.001027  0.240654  0.034041\n",
      "0   MMM -0.236235 -0.001000  0.012487  0.001000  0.126707  0.109744\n",
      "0   MRK -0.087572 -0.001000  0.012277  0.001000  0.077846  0.009757\n",
      "0  MSFT -0.289284 -0.001000  0.016569  0.004384  0.054066  0.231663\n",
      "0   NKE -0.387720 -0.222967  0.726391  0.524753  0.085918  0.139234\n",
      "0   PFE -0.372846 -0.363993  0.464438  0.469634  0.000000  0.422942\n",
      "0    PG -0.189003 -0.001000  0.009325  0.001000  0.189016  0.000000\n",
      "0   TRV -0.335796 -0.320215  0.495462  0.445240  0.038174  0.290749\n",
      "0   UNH -0.229358 -0.211074  0.052918  0.218942  0.339968  0.201391\n",
      "0   UTX -0.324042 -0.313347  0.381998  0.360507  0.018070  0.333922\n",
      "0     V -0.380719 -0.092335  0.674189  0.312196  0.046441  0.192765\n",
      "0    VZ -0.344510 -0.317866  0.389429  0.386545  0.000000  0.336447\n",
      "0   WMT -0.242241 -0.001000  0.013117  0.014747  0.002463  0.225750\n",
      "0   XOM -0.297938 -0.073992  0.015509  0.001000  0.255042  0.115347\n"
     ]
    }
   ],
   "source": [
    "\n",
    "list_ = []\n",
    "for c in df_cap.columns:\n",
    "    print(\"processing.......\" + str(c) )\n",
    "    x_scaled = df_cap[c].values/np.mean(df_cap[c].values)\n",
    "    signal_1_scaled = short_rolling[c].values/np.mean(short_rolling[c].values)\n",
    "    signal_2_scaled = long_rolling[c].values/np.mean(long_rolling[c].values)\n",
    "    #fit model\n",
    "    results, loss_values = fit_MLE([x_scaled, signal_1_scaled, signal_2_scaled], nb_iter = 1000, learning_rate = 0.001, reg = 0.1)\n",
    "    list_.append(results)\n",
    "\n",
    "res = pd.concat(list_)\n",
    "res['stock'] = df_cap.columns\n",
    "\n",
    "print(\"result for all stocks................:\")\n",
    "print(res)"
   ]
  },
  {
   "cell_type": "markdown",
   "metadata": {},
   "source": [
    "\n",
    "## Part 2: Analysis of default rates  (Max 10 point)\n",
    "\n",
    "For a particle in a potential $ V(y) $ with a metastable minimum $ y = a $ and a barrier with a peak located at $ y = b $, the famous Kramers' escape formula gives the following expression for the escape rate $ r $ (see e.g. the book by van Kampen):\n",
    "\n",
    "$$ \n",
    "r = \\frac{\\sqrt{ V''(a) \\left| V''(b) \\right| }}{2 \\pi} \\exp \\left[ - \\frac{2}{\\sigma^2} (V(b) - V(a) ) \\right]\n",
    "$$\n",
    "\n",
    "Here $ V''(a) $ and $ V''(b) $ stand for the second derivatives of the potential $ V(y) $ at the minimum and the maximum, respectively. This formula applies as long as the barrier height $ \\Delta E \\equiv  (V(b) - V(a) \\gg \\frac{\\sigma^2}{2} $. \n",
    "\n",
    "Apply the Kramers formula to the QED potential and parameters that you found in your calibration. What range of values of $ r $ do you obtain? Do these values make sense to you? Can you think how you could use the Kramers relation as a way to regularize your MLE calibration?\n"
   ]
  },
  {
   "cell_type": "markdown",
   "metadata": {},
   "source": [
    "#### Compute r"
   ]
  },
  {
   "cell_type": "markdown",
   "metadata": {},
   "source": [
    "Replacing values in the above formula gives the following :\n",
    "\n",
    "$$ r = \\frac{\\sqrt{ (\\kappa \\exp{a} +2g \\exp{2a}) \\left| (\\kappa \\exp b +2g \\exp{2b}) \\right| }}{2 \\pi} \\exp  \\left[ (\\theta  \\frac{2}{\\sigma^2}-1)(b-a) + \\frac{2\\kappa}{\\sigma^2}(\\exp{a} - \\exp{b}) + \\frac{2g}{\\sigma^2}(\\exp{2a} - \\exp{2b})\\right]$$"
   ]
  },
  {
   "cell_type": "code",
   "execution_count": 43,
   "metadata": {
    "collapsed": true
   },
   "outputs": [],
   "source": [
    "import math\n",
    "def r(kappa, theta, sigma, g, a, b):\n",
    "    exp = math.exp((2*theta/sigma**2 - 1)*(b-a) + 2*kappa/sigma**2*(math.exp(a)-math.exp(b)) + 2*g/sigma**2*(math.exp(2*a)-math.exp(2*b)) )\n",
    "    res = 1/(2*math.pi)*math.sqrt((kappa*math.exp(a)+ 2*g*math.exp(2*a))*abs(kappa*math.exp(a)+ 2*g*math.exp(2*a)))*exp\n",
    "    return exp"
   ]
  },
  {
   "cell_type": "markdown",
   "metadata": {},
   "source": [
    "#### Application for somes stock without signals"
   ]
  },
  {
   "cell_type": "code",
   "execution_count": 18,
   "metadata": {},
   "outputs": [
    {
     "name": "stdout",
     "output_type": "stream",
     "text": [
      "Potential values for \n"
     ]
    },
    {
     "data": {
      "image/png": "[encoded data removed]",
      "text/plain": [
       "<Figure size 432x288 with 1 Axes>"
      ]
     },
     "metadata": {
      "needs_background": "light"
     },
     "output_type": "display_data"
    }
   ],
   "source": [
    "#values estimated for IBM\n",
    "# kappa     theta     sigma        w1        w2         g\n",
    "#-0.192144 -0.029526  0.588431  0.273191  0.099073  0.005386\n",
    "\n",
    "#values for AAPL\n",
    "#kappa     theta     sigma         g\n",
    "#0.232636  0.227267 -0.796913 -0.079139\n",
    "\n",
    "#values for PG\n",
    "#kappa     theta     sigma        w1        w2         g\n",
    "#0.388898 -0.434151  0.326202  0.082205  0.036925 -0.107698\n",
    "for v in range(len(results)): \n",
    "    x_values = np.linspace(-5,5,100)\n",
    "    V =  [((results['theta'][v]  - 0.5*results['sigma'][v]**2  ) - results['kappa'][v] *x  +results['g'][v]*np.square(x)) for x in x_values]\n",
    "\n",
    "    potential = pd.DataFrame([], index = range(100), columns = ['x', 'V'])\n",
    "    potential['x'] = x_values\n",
    "    potential['V'] = V\n",
    "    potential\n",
    "\n",
    "    print('Potential values for ' + str(results['stock'][v]))\n",
    "    potential.plot(x='x', y='V', kind='line', title='Potential values for ' + str(results['stock'][v]))\n",
    "    plt.show()"
   ]
  },
  {
   "cell_type": "markdown",
   "metadata": {},
   "source": [
    "## Part 3: Propose and analyse your own signals  (Max 10 points)\n",
    "\n",
    "In this part, you will experiment with other signals. Propose a signal and explain why it is interesting to \n",
    "include this signal in the portfolio analysis. Then add your favorite signal or signals to the previous benchmarck signals (or alternatively you can replace them), and repeat the analysis of model calibration. State your conclusions.\n"
   ]
  },
  {
   "cell_type": "markdown",
   "metadata": {
    "collapsed": true
   },
   "source": [
    "### Calibration using exponential weighted moving average signal\n",
    "\n",
    "In this section I will do the same proceedure but setting z2 as exponential weighted moving average. The idea is to give more importance to the closiest value in timespace which should be most reflective of current market conditions. What this signal can also bring is a reduction of the lag in model fitting vs reality due to the use of simple moving average.\n",
    "Let's try"
   ]
  },
  {
   "cell_type": "markdown",
   "metadata": {},
   "source": [
    "#### Plot 3 years of data with EWM signal"
   ]
  },
  {
   "cell_type": "code",
   "execution_count": 12,
   "metadata": {},
   "outputs": [
    {
     "data": {
      "image/png": "[encoded data removed]",
      "text/plain": [
       "<matplotlib.figure.Figure at 0x7f3e3420b978>"
      ]
     },
     "metadata": {},
     "output_type": "display_data"
    }
   ],
   "source": [
    "#define ewm\n",
    "ewm_signal_1 = df_cap.ewm(span=10, adjust=False).mean()\n",
    "ewm_signal_2 = df_cap.ewm(span=40, adjust=False).mean()\n",
    "\n",
    "ticker = 'AAPL'\n",
    "start_date = '2015-01-01'\n",
    "end_date = '2017-12-31'\n",
    "\n",
    "fig = plt.figure(figsize=(10,6))\n",
    "ax = fig.add_subplot(1,1,1)\n",
    "\n",
    "ax.plot(df_cap.loc[start_date:end_date, :].index, df_cap.loc[start_date:end_date, 'AAPL'], label='Cap')\n",
    "ax.plot(ewm_signal_1.loc[start_date:end_date, :].index, ewm_signal_1.loc[start_date:end_date, 'AAPL'], \n",
    "          label = '%d-days span=10' % window_2)\n",
    "ax.plot(ewm_signal_2.loc[start_date:end_date, :].index, ewm_signal_2.loc[start_date:end_date, 'AAPL'], \n",
    "         label = '%d-days span=40' % window_1)\n",
    "\n",
    "ax.legend(loc='best')\n",
    "ax.set_ylabel('Cap in $')\n",
    "\n",
    "plt.show()"
   ]
  },
  {
   "cell_type": "markdown",
   "metadata": {},
   "source": [
    "#### Data pre-processing"
   ]
  },
  {
   "cell_type": "code",
   "execution_count": 16,
   "metadata": {},
   "outputs": [
    {
     "name": "stdout",
     "output_type": "stream",
     "text": [
      "2080\n",
      "2080\n",
      "ewm_signal_1 start...:2010-01-04 00:00:00\n",
      "ewm_signal_2 start...:2010-01-04 00:00:00\n",
      "df_cap start...:2010-01-04 00:00:00\n"
     ]
    }
   ],
   "source": [
    "\n",
    "#data cleaning\n",
    "ewm_signal_1 = ewm_signal_1.dropna()\n",
    "ewm_signal_2 = ewm_signal_2.dropna()\n",
    "print(len(ewm_signal_1))\n",
    "print(len(ewm_signal_2))\n",
    "print(\"ewm_signal_1 start...:\" + str(ewm_signal_1.index[0]))\n",
    "print(\"ewm_signal_2 start...:\" + str(ewm_signal_2.index[0]))\n",
    "print(\"df_cap start...:\" + str(df_cap.index[0]))\n"
   ]
  },
  {
   "cell_type": "markdown",
   "metadata": {},
   "source": [
    "#### Model fitting for AAPL stock"
   ]
  },
  {
   "cell_type": "code",
   "execution_count": 20,
   "metadata": {},
   "outputs": [
    {
     "name": "stdout",
     "output_type": "stream",
     "text": [
      "result for AAPL stock................:\n",
      "  stock     kappa     theta     sigma      g        w1        w2\n",
      "0  AAPL  0.308124  0.226264  1.082327 -0.004 -0.003595  0.040085\n"
     ]
    },
    {
     "data": {
      "image/png": "[encoded data removed]",
      "text/plain": [
       "<matplotlib.figure.Figure at 0x7f3ddb700780>"
      ]
     },
     "metadata": {},
     "output_type": "display_data"
    }
   ],
   "source": [
    "#define input data\n",
    "x = df_cap['AAPL'].values\n",
    "signal_1 = ewm_signal_1['AAPL'].values\n",
    "signal_2 = ewm_signal_2['AAPL'].values\n",
    "\n",
    "#scaling data\n",
    "x_scaled = x/np.mean(x)\n",
    "signal_1_scaled = signal_1/np.mean(signal_1)\n",
    "signal_2_scaled = signal_2/np.mean(signal_2)\n",
    "\n",
    "#fit model\n",
    "results, loss_values = fit_MLE([x_scaled, signal_1_scaled, signal_2_scaled], nb_iter = 1000, learning_rate = 0.1, reg = 1)\n",
    "results['stock'] = 'AAPL'\n",
    "print(\"result for AAPL stock................:\")\n",
    "print(results)\n",
    "plt.plot(loss_values)\n",
    "plt.show()"
   ]
  },
  {
   "cell_type": "markdown",
   "metadata": {},
   "source": [
    "#### For all stocks"
   ]
  },
  {
   "cell_type": "code",
   "execution_count": 21,
   "metadata": {},
   "outputs": [
    {
     "name": "stdout",
     "output_type": "stream",
     "text": [
      "(2080, 30)\n",
      "WARNING:tensorflow:From <ipython-input-7-b2329adc6184>:100: MultivariateNormalDiag.__init__ (from tensorflow.contrib.distributions.python.ops.mvn_diag) is deprecated and will be removed after 2018-10-01.\n",
      "Instructions for updating:\n",
      "The TensorFlow Distributions library has moved to TensorFlow Probability (https://github.com/tensorflow/probability). You should update all references to use `tfp.distributions` instead of `tf.contrib.distributions`.\n",
      "WARNING:tensorflow:From /opt/conda/lib/python3.6/site-packages/tensorflow/contrib/distributions/python/ops/mvn_diag.py:223: MultivariateNormalLinearOperator.__init__ (from tensorflow.contrib.distributions.python.ops.mvn_linear_operator) is deprecated and will be removed after 2018-10-01.\n",
      "Instructions for updating:\n",
      "The TensorFlow Distributions library has moved to TensorFlow Probability (https://github.com/tensorflow/probability). You should update all references to use `tfp.distributions` instead of `tf.contrib.distributions`.\n",
      "WARNING:tensorflow:From /opt/conda/lib/python3.6/site-packages/tensorflow/contrib/distributions/python/ops/mvn_linear_operator.py:200: AffineLinearOperator.__init__ (from tensorflow.contrib.distributions.python.ops.bijectors.affine_linear_operator) is deprecated and will be removed after 2018-10-01.\n",
      "Instructions for updating:\n",
      "The TensorFlow Distributions library has moved to TensorFlow Probability (https://github.com/tensorflow/probability). You should update all references to use `tfp.distributions` instead of `tf.contrib.distributions`.\n",
      "WARNING:tensorflow:From /opt/conda/lib/python3.6/site-packages/tensorflow/contrib/distributions/python/ops/bijectors/affine_linear_operator.py:158: _DistributionShape.__init__ (from tensorflow.contrib.distributions.python.ops.shape) is deprecated and will be removed after 2018-10-01.\n",
      "Instructions for updating:\n",
      "The TensorFlow Distributions library has moved to TensorFlow Probability (https://github.com/tensorflow/probability). You should update all references to use `tfp.distributions` instead of `tf.contrib.distributions`.\n",
      "result for all stocks with multi-stock model.......:\n",
      "   stock     kappa     theta     sigma        w1        w2         g\n",
      "0   AAPL -0.278563 -0.017986  1.595160  0.042237 -0.033293  0.156132\n",
      "1    AXP -0.154045  0.018082  0.729207 -0.206360 -0.186321 -0.029405\n",
      "2     BA -0.281228  0.013873  0.180397  0.184296  0.193187 -0.134401\n",
      "3    CAT -0.246703 -0.107809 -0.858373  0.049009 -0.008018 -0.149297\n",
      "4   CSCO -0.148171  0.233387  0.771264  0.011028  0.080528  0.217284\n",
      "5    CVX  0.366185 -0.346643  0.995099 -0.038779 -0.127607  0.335581\n",
      "6    DIS -0.115399 -0.068758  0.787297 -0.297720 -0.392224 -0.069427\n",
      "7   DWDP -0.079436 -0.050902  0.345720  0.037175  0.140442  0.332942\n",
      "8     GE -0.277469 -0.209707  0.024148  0.259923  0.326640 -0.114706\n",
      "9     GS  0.235472  0.244794  0.651781 -0.107900 -0.289850 -0.109925\n",
      "10    HD  0.011415  0.274667  0.319262 -0.174829 -0.098646 -0.016807\n",
      "11   IBM  0.399016  0.080348  0.752488  0.122992 -0.059349 -0.234243\n",
      "12  INTC -0.175754 -0.357164  0.518833 -0.200092 -0.226677 -0.339161\n",
      "13   JNJ  0.425123  0.117882  0.963426 -0.008779  0.109210 -0.180099\n",
      "14   JPM -0.663606 -0.304026  0.767029 -0.313868 -0.525681 -0.414016\n",
      "15    KO  0.257635  0.382629  0.737165  0.075194 -0.140678 -0.224477\n",
      "16   MCD -0.194796 -0.752026  0.497455 -0.435300 -0.497327 -0.882566\n",
      "17   MMM -0.085715  0.057868  0.441252  0.252486  0.001597 -0.145640\n",
      "18   MRK  0.105293  0.208135  0.739706 -0.204964 -0.003117  0.239638\n",
      "19  MSFT  0.412841  0.140507  1.138111  0.013156  0.166673 -0.134920\n",
      "20   NKE -0.487225 -0.431752 -0.654317 -0.410466 -0.555907 -0.536046\n",
      "21   PFE  0.155235  0.385793  0.771924  0.073875  0.120118 -0.341878\n",
      "22    PG  0.347178 -0.407364  0.826840 -0.180400 -0.053278  0.382458\n",
      "23   TRV -0.097348  0.097998  0.454681  0.172495  0.466541 -0.023238\n",
      "24   UNH -0.541466 -0.129812 -0.700739  0.030699  0.014629 -0.133269\n",
      "25   UTX -0.150897  0.152972  0.406908  0.018628  0.095020 -0.126406\n",
      "26     V  0.187324 -0.069707  0.629656  0.021197  0.007644  0.157515\n",
      "27    VZ -0.253212 -0.453034 -1.067564 -0.442083 -0.206602 -0.486590\n",
      "28   WMT -0.136567  0.197653  0.913105  0.165910  0.000675  0.105496\n",
      "29   XOM  0.074259 -0.035156  1.095715  0.112928  0.187809 -0.046204\n"
     ]
    }
   ],
   "source": [
    "#define input data\n",
    "x = df_cap.values\n",
    "signal_1 = ewm_signal_1.values\n",
    "signal_2 = ewm_signal_2.values\n",
    "\n",
    "#scaling data\n",
    "x_scaled = x/np.mean(x)\n",
    "signal_1_scaled = signal_1/np.mean(signal_1)\n",
    "signal_2_scaled = signal_2/np.mean(signal_2)\n",
    "\n",
    "\n",
    "results, loss_values = fit_multi_MLE([x_scaled, signal_1_scaled, signal_2_scaled], nb_iter = 100, learning_rate = 0.1, reg_w = 0.1, reg_sigma = 0.1)\n",
    "print(\"result for all stocks with multi-stock model.......:\")\n",
    "print(results)"
   ]
  }
 ],
 "metadata": {
  "kernelspec": {
   "display_name": "Python 3",
   "language": "python",
   "name": "python3"
  },
  "language_info": {
   "codemirror_mode": {
    "name": "ipython",
    "version": 3
   },
   "file_extension": ".py",
   "mimetype": "text/x-python",
   "name": "python",
   "nbconvert_exporter": "python",
   "pygments_lexer": "ipython3",
   "version": "3.8.8"
  }
 },
 "nbformat": 4,
 "nbformat_minor": 2
}
